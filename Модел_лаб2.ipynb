{
  "nbformat": 4,
  "nbformat_minor": 0,
  "metadata": {
    "colab": {
      "provenance": [],
      "collapsed_sections": []
    },
    "kernelspec": {
      "name": "python3",
      "display_name": "Python 3"
    }
  },
  "cells": [
    {
      "cell_type": "code",
      "metadata": {
        "id": "2qk8Sv1ig5LY"
      },
      "source": [
        "import matplotlib.pyplot as plt"
      ],
      "execution_count": null,
      "outputs": []
    },
    {
      "cell_type": "markdown",
      "metadata": {
        "id": "zY9CI4lYihXG"
      },
      "source": [
        "**1. Разработать линейный конгруэнтный ГПСЧ**\\\n",
        "Суть метода заключается в вычислении последовательности псевдослучайных чисел:\\\n",
        "$X_{n+1}=(aX_n+c)modm$\n",
        "Когда c ≠ 0, правильно выбранные параметры допускают период, равный m, для всех начальных значений. Это произойдет тогда и только тогда, когда:\n",
        "1. $m$ и $c$ являются взаимно простыми  \n",
        "2. $a - 1$ делится на все простые множители из $m$  \n",
        "3. $a-1$ делится на 4, если $m$ делится на 4. \n"
      ]
    },
    {
      "cell_type": "code",
      "metadata": {
        "colab": {
          "base_uri": "https://localhost:8080/"
        },
        "id": "7FFfu0T-inC8",
        "outputId": "15a127c5-a103-4ed7-ffcf-19261267071f"
      },
      "source": [
        "X0 = 2\n",
        "m = 50\n",
        "c = 3\n",
        "a = 11\n",
        "n = 473\n",
        "X = [X0]\n",
        "for i in range(n):\n",
        "  X.append((a * X[-1] + c) % m)\n",
        "print(X)"
      ],
      "execution_count": null,
      "outputs": [
        {
          "output_type": "stream",
          "text": [
            "[2, 25, 28, 11, 24, 17, 40, 43, 26, 39, 32, 5, 8, 41, 4, 47, 20, 23, 6, 19, 12, 35, 38, 21, 34, 27, 0, 3, 36, 49, 42, 15, 18, 1, 14, 7, 30, 33, 16, 29, 22, 45, 48, 31, 44, 37, 10, 13, 46, 9, 2, 25, 28, 11, 24, 17, 40, 43, 26, 39, 32, 5, 8, 41, 4, 47, 20, 23, 6, 19, 12, 35, 38, 21, 34, 27, 0, 3, 36, 49, 42, 15, 18, 1, 14, 7, 30, 33, 16, 29, 22, 45, 48, 31, 44, 37, 10, 13, 46, 9, 2, 25, 28, 11, 24, 17, 40, 43, 26, 39, 32, 5, 8, 41, 4, 47, 20, 23, 6, 19, 12, 35, 38, 21, 34, 27, 0, 3, 36, 49, 42, 15, 18, 1, 14, 7, 30, 33, 16, 29, 22, 45, 48, 31, 44, 37, 10, 13, 46, 9, 2, 25, 28, 11, 24, 17, 40, 43, 26, 39, 32, 5, 8, 41, 4, 47, 20, 23, 6, 19, 12, 35, 38, 21, 34, 27, 0, 3, 36, 49, 42, 15, 18, 1, 14, 7, 30, 33, 16, 29, 22, 45, 48, 31, 44, 37, 10, 13, 46, 9, 2, 25, 28, 11, 24, 17, 40, 43, 26, 39, 32, 5, 8, 41, 4, 47, 20, 23, 6, 19, 12, 35, 38, 21, 34, 27, 0, 3, 36, 49, 42, 15, 18, 1, 14, 7, 30, 33, 16, 29, 22, 45, 48, 31, 44, 37, 10, 13, 46, 9, 2, 25, 28, 11, 24, 17, 40, 43, 26, 39, 32, 5, 8, 41, 4, 47, 20, 23, 6, 19, 12, 35, 38, 21, 34, 27, 0, 3, 36, 49, 42, 15, 18, 1, 14, 7, 30, 33, 16, 29, 22, 45, 48, 31, 44, 37, 10, 13, 46, 9, 2, 25, 28, 11, 24, 17, 40, 43, 26, 39, 32, 5, 8, 41, 4, 47, 20, 23, 6, 19, 12, 35, 38, 21, 34, 27, 0, 3, 36, 49, 42, 15, 18, 1, 14, 7, 30, 33, 16, 29, 22, 45, 48, 31, 44, 37, 10, 13, 46, 9, 2, 25, 28, 11, 24, 17, 40, 43, 26, 39, 32, 5, 8, 41, 4, 47, 20, 23, 6, 19, 12, 35, 38, 21, 34, 27, 0, 3, 36, 49, 42, 15, 18, 1, 14, 7, 30, 33, 16, 29, 22, 45, 48, 31, 44, 37, 10, 13, 46, 9, 2, 25, 28, 11, 24, 17, 40, 43, 26, 39, 32, 5, 8, 41, 4, 47, 20, 23, 6, 19, 12, 35, 38, 21, 34, 27, 0, 3, 36, 49, 42, 15, 18, 1, 14, 7, 30, 33, 16, 29, 22, 45, 48, 31, 44, 37, 10, 13, 46, 9, 2, 25, 28, 11, 24, 17, 40, 43, 26, 39, 32, 5, 8, 41, 4, 47, 20, 23, 6, 19, 12, 35, 38, 21]\n"
          ],
          "name": "stdout"
        }
      ]
    },
    {
      "cell_type": "code",
      "metadata": {
        "colab": {
          "base_uri": "https://localhost:8080/",
          "height": 488
        },
        "id": "Loht44Nal0p4",
        "outputId": "16fc40fa-a1a1-4ef9-9100-19fd582f0eb9"
      },
      "source": [
        "fig, axs = plt.subplots(tight_layout=True)\n",
        "axs.hist(X, bins=m)"
      ],
      "execution_count": null,
      "outputs": [
        {
          "output_type": "execute_result",
          "data": {
            "text/plain": [
              "(array([ 9.,  9., 10.,  9., 10., 10., 10.,  9., 10.,  9.,  9., 10., 10.,\n",
              "         9.,  9.,  9.,  9., 10.,  9., 10., 10., 10.,  9., 10., 10., 10.,\n",
              "        10.,  9., 10.,  9.,  9.,  9., 10.,  9.,  9., 10.,  9.,  9., 10.,\n",
              "        10., 10., 10.,  9., 10.,  9.,  9.,  9., 10.,  9.,  9.]),\n",
              " array([ 0.  ,  0.98,  1.96,  2.94,  3.92,  4.9 ,  5.88,  6.86,  7.84,\n",
              "         8.82,  9.8 , 10.78, 11.76, 12.74, 13.72, 14.7 , 15.68, 16.66,\n",
              "        17.64, 18.62, 19.6 , 20.58, 21.56, 22.54, 23.52, 24.5 , 25.48,\n",
              "        26.46, 27.44, 28.42, 29.4 , 30.38, 31.36, 32.34, 33.32, 34.3 ,\n",
              "        35.28, 36.26, 37.24, 38.22, 39.2 , 40.18, 41.16, 42.14, 43.12,\n",
              "        44.1 , 45.08, 46.06, 47.04, 48.02, 49.  ]),\n",
              " <a list of 50 Patch objects>)"
            ]
          },
          "metadata": {
            "tags": []
          },
          "execution_count": 10
        },
        {
          "output_type": "display_data",
          "data": {
            "image/png": "[encoded data removed]",
            "text/plain": [
              "<Figure size 432x288 with 1 Axes>"
            ]
          },
          "metadata": {
            "tags": [],
            "needs_background": "light"
          }
        }
      ]
    },
    {
      "cell_type": "code",
      "metadata": {
        "colab": {
          "base_uri": "https://localhost:8080/"
        },
        "id": "AuSKrB-Fn0to",
        "outputId": "72b4e74e-415d-4a57-e511-ba6af070f0bf"
      },
      "source": [
        "print(len(list(filter(lambda x: x == 50, X))))"
      ],
      "execution_count": null,
      "outputs": [
        {
          "output_type": "stream",
          "text": [
            "0\n"
          ],
          "name": "stdout"
        }
      ]
    },
    {
      "cell_type": "code",
      "metadata": {
        "colab": {
          "base_uri": "https://localhost:8080/"
        },
        "id": "C6MOW5lXoumL",
        "outputId": "8dea6cd7-8dc8-4da2-eb97-a98be2a97e7e"
      },
      "source": [
        "# выясним период для элементов последовательности\n",
        "elm = 47\n",
        "print([index for index, item in enumerate(X) if item == elm])\n",
        "elm2 = 34\n",
        "print([index for index, item in enumerate(X) if item == elm2])\n",
        "# период равен m, т.е. 50"
      ],
      "execution_count": null,
      "outputs": [
        {
          "output_type": "stream",
          "text": [
            "[15, 65, 115, 165, 215, 265, 315, 365, 415, 465]\n",
            "[24, 74, 124, 174, 224, 274, 324, 374, 424]\n"
          ],
          "name": "stdout"
        }
      ]
    },
    {
      "cell_type": "code",
      "metadata": {
        "colab": {
          "base_uri": "https://localhost:8080/",
          "height": 352
        },
        "id": "l5XJDf1AqYSN",
        "outputId": "6b85b6e1-3228-4bd2-957b-50dca6706fd1"
      },
      "source": [
        "# Строим новую последовательность из младших разрядов членов исходной последовательности\n",
        "X2 = list(map(lambda x: x % 10, X))\n",
        "print(X2)\n",
        "\n",
        "# строим гистограмму для новой последовательности\n",
        "fig, axs = plt.subplots(tight_layout=True)\n",
        "axs.hist(X2, bins=10)\n",
        "\n",
        "elm = 4\n",
        "print([index for index, item in enumerate(X2) if item == elm])\n",
        "# период теперь равен 10"
      ],
      "execution_count": null,
      "outputs": [
        {
          "output_type": "stream",
          "text": [
            "[2, 5, 8, 1, 4, 7, 0, 3, 6, 9, 2, 5, 8, 1, 4, 7, 0, 3, 6, 9, 2, 5, 8, 1, 4, 7, 0, 3, 6, 9, 2, 5, 8, 1, 4, 7, 0, 3, 6, 9, 2, 5, 8, 1, 4, 7, 0, 3, 6, 9, 2, 5, 8, 1, 4, 7, 0, 3, 6, 9, 2, 5, 8, 1, 4, 7, 0, 3, 6, 9, 2, 5, 8, 1, 4, 7, 0, 3, 6, 9, 2, 5, 8, 1, 4, 7, 0, 3, 6, 9, 2, 5, 8, 1, 4, 7, 0, 3, 6, 9, 2, 5, 8, 1, 4, 7, 0, 3, 6, 9, 2, 5, 8, 1, 4, 7, 0, 3, 6, 9, 2, 5, 8, 1, 4, 7, 0, 3, 6, 9, 2, 5, 8, 1, 4, 7, 0, 3, 6, 9, 2, 5, 8, 1, 4, 7, 0, 3, 6, 9, 2, 5, 8, 1, 4, 7, 0, 3, 6, 9, 2, 5, 8, 1, 4, 7, 0, 3, 6, 9, 2, 5, 8, 1, 4, 7, 0, 3, 6, 9, 2, 5, 8, 1, 4, 7, 0, 3, 6, 9, 2, 5, 8, 1, 4, 7, 0, 3, 6, 9, 2, 5, 8, 1, 4, 7, 0, 3, 6, 9, 2, 5, 8, 1, 4, 7, 0, 3, 6, 9, 2, 5, 8, 1, 4, 7, 0, 3, 6, 9, 2, 5, 8, 1, 4, 7, 0, 3, 6, 9, 2, 5, 8, 1, 4, 7, 0, 3, 6, 9, 2, 5, 8, 1, 4, 7, 0, 3, 6, 9, 2, 5, 8, 1, 4, 7, 0, 3, 6, 9, 2, 5, 8, 1, 4, 7, 0, 3, 6, 9, 2, 5, 8, 1, 4, 7, 0, 3, 6, 9, 2, 5, 8, 1, 4, 7, 0, 3, 6, 9, 2, 5, 8, 1, 4, 7, 0, 3, 6, 9, 2, 5, 8, 1, 4, 7, 0, 3, 6, 9, 2, 5, 8, 1, 4, 7, 0, 3, 6, 9, 2, 5, 8, 1, 4, 7, 0, 3, 6, 9, 2, 5, 8, 1, 4, 7, 0, 3, 6, 9, 2, 5, 8, 1, 4, 7, 0, 3, 6, 9, 2, 5, 8, 1, 4, 7, 0, 3, 6, 9, 2, 5, 8, 1, 4, 7, 0, 3, 6, 9, 2, 5, 8, 1, 4, 7, 0, 3, 6, 9, 2, 5, 8, 1, 4, 7, 0, 3, 6, 9, 2, 5, 8, 1, 4, 7, 0, 3, 6, 9, 2, 5, 8, 1, 4, 7, 0, 3, 6, 9, 2, 5, 8, 1, 4, 7, 0, 3, 6, 9, 2, 5, 8, 1, 4, 7, 0, 3, 6, 9, 2, 5, 8, 1, 4, 7, 0, 3, 6, 9, 2, 5, 8, 1, 4, 7, 0, 3, 6, 9, 2, 5, 8, 1, 4, 7, 0, 3, 6, 9, 2, 5, 8, 1]\n",
            "[4, 14, 24, 34, 44, 54, 64, 74, 84, 94, 104, 114, 124, 134, 144, 154, 164, 174, 184, 194, 204, 214, 224, 234, 244, 254, 264, 274, 284, 294, 304, 314, 324, 334, 344, 354, 364, 374, 384, 394, 404, 414, 424, 434, 444, 454, 464]\n"
          ],
          "name": "stdout"
        },
        {
          "output_type": "display_data",
          "data": {
            "image/png": "[encoded data removed]",
            "text/plain": [
              "<Figure size 432x288 with 1 Axes>"
            ]
          },
          "metadata": {
            "tags": [],
            "needs_background": "light"
          }
        }
      ]
    },
    {
      "cell_type": "markdown",
      "metadata": {
        "id": "crkAe3zfsYaZ"
      },
      "source": [
        "**2. Разработать генератор нормально распределённых случайных чисел на основе центральной предельной теоремы**\n",
        "При n=12 формула имеет простой вид:\\\n",
        "$\\theta=\\sum_{i=1}^{12}\\alpha_i-6$"
      ]
    },
    {
      "cell_type": "code",
      "metadata": {
        "id": "o_qP26DdwcMN"
      },
      "source": [
        "import numpy as np\n",
        "import scipy.stats as stats\n",
        "import math"
      ],
      "execution_count": null,
      "outputs": []
    },
    {
      "cell_type": "code",
      "metadata": {
        "id": "CaRo9D6GsUgc"
      },
      "source": [
        "import random\n",
        "\n",
        "# получаем 12 равномерно распределенных величин\n",
        "def norm_1(m=0, d=1):\n",
        "  X = [random.random() for i in range(12)]\n",
        "  return sum(X) - 6"
      ],
      "execution_count": null,
      "outputs": []
    },
    {
      "cell_type": "code",
      "metadata": {
        "colab": {
          "base_uri": "https://localhost:8080/",
          "height": 314
        },
        "id": "bNEcgXnksCXx",
        "outputId": "52983d55-b298-45f8-da5c-c8c8f5730bb4"
      },
      "source": [
        "n = 5000\n",
        "X = [norm_1() for i in range(n)]\n",
        "\n",
        "fig, axs = plt.subplots(tight_layout=True)\n",
        "axs.hist(X, bins=20, density=True)\n",
        "\n",
        "mu = 0\n",
        "variance = 1\n",
        "sigma = math.sqrt(variance)\n",
        "x = np.linspace(mu - 3*sigma, mu + 3*sigma, 100)\n",
        "plt.plot(x, stats.norm.pdf(x, mu, sigma))"
      ],
      "execution_count": null,
      "outputs": [
        {
          "output_type": "execute_result",
          "data": {
            "text/plain": [
              "[<matplotlib.lines.Line2D at 0x7f458b537610>]"
            ]
          },
          "metadata": {
            "tags": []
          },
          "execution_count": 28
        },
        {
          "output_type": "display_data",
          "data": {
            "image/png": "[encoded data removed]",
            "text/plain": [
              "<Figure size 432x288 with 1 Axes>"
            ]
          },
          "metadata": {
            "tags": [],
            "needs_background": "light"
          }
        }
      ]
    },
    {
      "cell_type": "markdown",
      "metadata": {
        "id": "Zx3unqwDczIa"
      },
      "source": [
        "**2. Разработать генератор нормально распределённых случайных чисел на основе преобразования Бокса-Мюллера**\\\n",
        "Для этого сначала получаем две равномерно величины, равномерно распределенные на [-1, 1]. Затем вычисляем $S=X^2+Y^2$ и $Z_1=X\\sqrt{-2\\ln{S}/S}$"
      ]
    },
    {
      "cell_type": "code",
      "metadata": {
        "id": "NDgXbcBYwZL-"
      },
      "source": [
        "def norm_2():\n",
        "  while True:\n",
        "    x = random.uniform(-1, 1)\n",
        "    y = random.uniform(-1, 1)\n",
        "    s = x**2 + y**2\n",
        "    if s < 1 and s != 0:\n",
        "      break\n",
        "  z = x * math.sqrt(-(2*math.log(s))/s)\n",
        "  return z"
      ],
      "execution_count": null,
      "outputs": []
    },
    {
      "cell_type": "code",
      "metadata": {
        "colab": {
          "base_uri": "https://localhost:8080/",
          "height": 314
        },
        "id": "e2YWbdmvySa1",
        "outputId": "16a476d4-abd3-46d5-841b-9438b64a42aa"
      },
      "source": [
        "n = 5000\n",
        "X = [norm_2() for i in range(n)]\n",
        "\n",
        "fig, axs = plt.subplots(tight_layout=True)\n",
        "axs.hist(X, bins=20, density=True)\n",
        "\n",
        "mu = 0\n",
        "variance = 1\n",
        "sigma = math.sqrt(variance)\n",
        "x = np.linspace(mu - 3*sigma, mu + 3*sigma, 100)\n",
        "plt.plot(x, stats.norm.pdf(x, mu, sigma))"
      ],
      "execution_count": null,
      "outputs": [
        {
          "output_type": "execute_result",
          "data": {
            "text/plain": [
              "[<matplotlib.lines.Line2D at 0x7f457cdde5d0>]"
            ]
          },
          "metadata": {
            "tags": []
          },
          "execution_count": 43
        },
        {
          "output_type": "display_data",
          "data": {
            "image/png": "[encoded data removed]",
            "text/plain": [
              "<Figure size 432x288 with 1 Axes>"
            ]
          },
          "metadata": {
            "tags": [],
            "needs_background": "light"
          }
        }
      ]
    }
  ]
}