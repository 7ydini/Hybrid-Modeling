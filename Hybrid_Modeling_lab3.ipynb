{
  "nbformat": 4,
  "nbformat_minor": 0,
  "metadata": {
    "colab": {
      "provenance": [],
      "authorship_tag": "ABX9TyP5enxEARHy154hQm4i0rsJ",
      "include_colab_link": true
    },
    "kernelspec": {
      "name": "python3",
      "display_name": "Python 3"
    },
    "language_info": {
      "name": "python"
    }
  },
  "cells": [
    {
      "cell_type": "markdown",
      "metadata": {
        "id": "view-in-github",
        "colab_type": "text"
      },
      "source": [
        "<a href=\"https://colab.research.google.com/github/7ydini/Hybrid-Modeling/blob/main/Hybrid_Modeling_lab3.ipynb\" target=\"_parent\"><img src=\"https://colab.research.google.com/assets/colab-badge.svg\" alt=\"Open In Colab\"/></a>"
      ]
    },
    {
      "cell_type": "code",
      "execution_count": 1,
      "metadata": {
        "id": "Q2hBZrlvyJHh"
      },
      "outputs": [],
      "source": [
        "import time\n",
        "import random\n",
        "import itertools as it\n",
        "\n",
        "from threading import Thread\n",
        "\n",
        "import seaborn as sns\n",
        "import matplotlib.pyplot as plt"
      ]
    },
    {
      "cell_type": "code",
      "source": [
        "def show_seq(seq):\n",
        "    sns.set_style('darkgrid')\n",
        "    axis = sns.displot(seq, kde=True, rug=True, discrete=True)\n",
        "    axis.set(xlabel='Количество элементов в очереди', ylabel='Частота повторений')\n",
        "    plt.show()"
      ],
      "metadata": {
        "id": "W7p2Oeh3yL3B"
      },
      "execution_count": 2,
      "outputs": []
    },
    {
      "cell_type": "code",
      "source": [
        "class Handler:\n",
        "    is_busy = False\n",
        "    iterations_until_free = 0\n",
        "    current_task = -1\n",
        "\n",
        "    @staticmethod\n",
        "    def handle(queue):\n",
        "        if not queue:\n",
        "            return\n",
        "        task = queue[0]\n",
        "        if task <= 0:\n",
        "            time.sleep(0.3)\n",
        "            queue.pop(0)\n",
        "            return\n",
        "        if Handler.iterations_until_free == 0:\n",
        "            print('\\033[95m Started processing', task)\n",
        "            print('\\033[0m', end='')\n",
        "            Handler.iterations_until_free = task\n",
        "            Handler.is_busy = False\n",
        "            Handler.current_task = queue.pop(0)\n",
        "        else:\n",
        "            print('[', queue[0], '... ]',\n",
        "                  'should wait',\n",
        "                  '\\033[92m' if Handler.iterations_until_free == 1 else '\\033[93m',\n",
        "                  Handler.iterations_until_free,\n",
        "                  'cycles')\n",
        "            print('\\033[0m', end='')\n",
        "            Handler.is_busy = True\n",
        "            Handler.iterations_until_free -= 1\n",
        "            time.sleep(0.1)\n",
        "        return Handler.is_busy\n",
        "\n",
        "def task_sender(queue):\n",
        "    while True:\n",
        "        if len(queue) > 3 and random.randint(0,100) < 10:\n",
        "            queue.append(-100)\n",
        "            return\n",
        "        queue.append(random.randint(-5,10))\n",
        "        time.sleep(0.1)"
      ],
      "metadata": {
        "id": "AGPWUhUFyRP8"
      },
      "execution_count": 3,
      "outputs": []
    },
    {
      "cell_type": "code",
      "source": [
        "queue = []\n",
        "queue_memorized = []\n",
        "queue_len = []\n",
        "\n",
        "filler = Thread(target=lambda: task_sender(queue))\n",
        "filler.start()"
      ],
      "metadata": {
        "id": "rvZeyCcZyXnE"
      },
      "execution_count": 4,
      "outputs": []
    },
    {
      "cell_type": "code",
      "source": [
        "# Ждем, пока очередь не заполнится хотя бы одним элементом\n",
        "while len(queue) == 0:\n",
        "    pass\n",
        "\n",
        "start_time = time.time()\n",
        "\n",
        "while True:\n",
        "    try:\n",
        "        if queue[0] == -100:\n",
        "            break\n",
        "        queue_len.append(len(queue))\n",
        "        if not Handler.is_busy:\n",
        "            queue_memorized.append((queue[0], time.time() - start_time))\n",
        "        Handler.handle(queue)\n",
        "    except KeyboardInterrupt:\n",
        "        break\n",
        "    except Exception:\n",
        "        pass\n"
      ],
      "metadata": {
        "colab": {
          "base_uri": "https://localhost:8080/"
        },
        "id": "dLVsb0JDya9B",
        "outputId": "9e45cbeb-5032-4d1e-d55c-3bf8e728f0cf"
      },
      "execution_count": 5,
      "outputs": [
        {
          "output_type": "stream",
          "name": "stdout",
          "text": [
            "\u001b[95m Started processing 8\n",
            "\u001b[0m[ 5 ... ] should wait \u001b[93m 8 cycles\n",
            "\u001b[0m[ 5 ... ] should wait \u001b[93m 7 cycles\n",
            "\u001b[0m[ 5 ... ] should wait \u001b[93m 6 cycles\n",
            "\u001b[0m[ 5 ... ] should wait \u001b[93m 5 cycles\n",
            "\u001b[0m[ 5 ... ] should wait \u001b[93m 4 cycles\n",
            "\u001b[0m[ 5 ... ] should wait \u001b[93m 3 cycles\n",
            "\u001b[0m[ 5 ... ] should wait \u001b[93m 2 cycles\n",
            "\u001b[0m[ 5 ... ] should wait \u001b[92m 1 cycles\n",
            "\u001b[0m\u001b[95m Started processing 5\n",
            "\u001b[0m[ 10 ... ] should wait \u001b[93m 5 cycles\n",
            "\u001b[0m[ 10 ... ] should wait \u001b[93m 4 cycles\n",
            "\u001b[0m[ 10 ... ] should wait \u001b[93m 3 cycles\n",
            "\u001b[0m[ 10 ... ] should wait \u001b[93m 2 cycles\n",
            "\u001b[0m[ 10 ... ] should wait \u001b[92m 1 cycles\n",
            "\u001b[0m\u001b[95m Started processing 10\n",
            "\u001b[0m[ 10 ... ] should wait \u001b[93m 10 cycles\n",
            "\u001b[0m[ 10 ... ] should wait \u001b[93m 9 cycles\n",
            "\u001b[0m[ 10 ... ] should wait \u001b[93m 8 cycles\n",
            "\u001b[0m[ 10 ... ] should wait \u001b[93m 7 cycles\n",
            "\u001b[0m[ 10 ... ] should wait \u001b[93m 6 cycles\n",
            "\u001b[0m[ 10 ... ] should wait \u001b[93m 5 cycles\n",
            "\u001b[0m[ 10 ... ] should wait \u001b[93m 4 cycles\n",
            "\u001b[0m[ 10 ... ] should wait \u001b[93m 3 cycles\n",
            "\u001b[0m[ 10 ... ] should wait \u001b[93m 2 cycles\n",
            "\u001b[0m[ 10 ... ] should wait \u001b[92m 1 cycles\n",
            "\u001b[0m\u001b[95m Started processing 10\n",
            "\u001b[0m[ 7 ... ] should wait \u001b[93m 10 cycles\n",
            "\u001b[0m[ 7 ... ] should wait \u001b[93m 9 cycles\n",
            "\u001b[0m[ 7 ... ] should wait \u001b[93m 8 cycles\n",
            "\u001b[0m[ 7 ... ] should wait \u001b[93m 7 cycles\n",
            "\u001b[0m[ 7 ... ] should wait \u001b[93m 6 cycles\n",
            "\u001b[0m[ 7 ... ] should wait \u001b[93m 5 cycles\n",
            "\u001b[0m[ 7 ... ] should wait \u001b[93m 4 cycles\n",
            "\u001b[0m[ 7 ... ] should wait \u001b[93m 3 cycles\n",
            "\u001b[0m[ 7 ... ] should wait \u001b[93m 2 cycles\n",
            "\u001b[0m[ 7 ... ] should wait \u001b[92m 1 cycles\n",
            "\u001b[0m\u001b[95m Started processing 7\n",
            "\u001b[0m[ 2 ... ] should wait \u001b[93m 7 cycles\n",
            "\u001b[0m[ 2 ... ] should wait \u001b[93m 6 cycles\n",
            "\u001b[0m[ 2 ... ] should wait \u001b[93m 5 cycles\n",
            "\u001b[0m[ 2 ... ] should wait \u001b[93m 4 cycles\n",
            "\u001b[0m[ 2 ... ] should wait \u001b[93m 3 cycles\n",
            "\u001b[0m[ 2 ... ] should wait \u001b[93m 2 cycles\n",
            "\u001b[0m[ 2 ... ] should wait \u001b[92m 1 cycles\n",
            "\u001b[0m\u001b[95m Started processing 2\n",
            "\u001b[0m[ 4 ... ] should wait \u001b[93m 2 cycles\n",
            "\u001b[0m[ 4 ... ] should wait \u001b[92m 1 cycles\n",
            "\u001b[0m\u001b[95m Started processing 4\n",
            "\u001b[0m"
          ]
        }
      ]
    },
    {
      "cell_type": "code",
      "source": [
        "true_tasks = list(filter(lambda t: t[0] > 0, queue_memorized))\n",
        "do_noting_tasks = list(filter(lambda t: t[0] <= 0, queue_memorized))\n",
        "\n",
        "true_tasks_average = sum([t[1] for t in true_tasks])/len(true_tasks)\n",
        "do_nothing_average = sum([d[1] for d in do_noting_tasks])/len(do_noting_tasks)\n",
        "\n",
        "print('Среднее время нахождения заявки в системе:', true_tasks_average)\n",
        "print('Среднее время простоя обработчика:', do_nothing_average)\n",
        "\n",
        "print(queue_len)\n",
        "queue_len_average = sum(queue_len)/len(queue_len)\n",
        "print('Средняя длина очереди:', queue_len_average)\n",
        "print('Максимальная длина очереди:', max(queue_len))\n",
        "\n",
        "show_seq(queue_len)"
      ],
      "metadata": {
        "colab": {
          "base_uri": "https://localhost:8080/",
          "height": 475
        },
        "id": "LIVzBbSRyeLZ",
        "outputId": "7b12e4b3-962e-4e11-955b-45f0565206b9"
      },
      "execution_count": 6,
      "outputs": [
        {
          "output_type": "stream",
          "name": "stdout",
          "text": [
            "Среднее время нахождения заявки в системе: 2.3703649725232805\n",
            "Среднее время простоя обработчика: 2.5409968495368958\n",
            "[1, 1, 2, 3, 4, 5, 6, 7, 8, 9, 8, 9, 8, 8, 8, 8, 8, 8, 7, 7, 7, 7, 7, 7, 7, 7, 7, 7, 7, 6, 5, 5, 5, 5, 5, 5, 5, 5, 5, 5, 5, 4, 4, 4, 4, 4, 4, 4, 4, 3, 2, 2, 2]\n",
            "Средняя длина очереди: 5.471698113207547\n",
            "Максимальная длина очереди: 9\n"
          ]
        },
        {
          "output_type": "display_data",
          "data": {
            "text/plain": [
              "<Figure size 360x360 with 1 Axes>"
            ],
            "image/png": "[encoded data removed]"
          },
          "metadata": {}
        }
      ]
    }
  ]
}